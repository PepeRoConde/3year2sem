{
 "cells": [
  {
   "cell_type": "markdown",
   "metadata": {},
   "source": [
    "### Pablo Chantada Saborido (pablo.chantada@udc.es)\n",
    "### José Romero Conde (j.rconde@udc.es)"
   ]
  },
  {
   "cell_type": "markdown",
   "metadata": {},
   "source": [
    "# CARGA DE DATOS"
   ]
  },
  {
   "cell_type": "code",
   "execution_count": 1,
   "metadata": {},
   "outputs": [],
   "source": [
    "from Utils import DatasetProcess, reconstruction_plot, anomaly_report, plot_atipicos\n",
    "from ConvModel import ConvModel\n",
    "from AutoEncoder import TwoStepAutoEncoder, TwoStepClassifier, TwoStepTraining, OneStepAutoencoder, OneStepTraining\n",
    "from OneClass import AnomalyDetector\n",
    "from Contrastive import ContrastiveModel, SemiSupervisedContrastiveModel"
   ]
  },
  {
   "cell_type": "code",
   "execution_count": 2,
   "metadata": {},
   "outputs": [],
   "source": [
    "unlabeled_train, x_train, y_train, x_val, y_val, x_test, y_test, one_hot_train, one_hot_val, one_hot_test = DatasetProcess.load_dataset()"
   ]
  },
  {
   "cell_type": "code",
   "execution_count": 3,
   "metadata": {},
   "outputs": [
    {
     "name": "stdout",
     "output_type": "stream",
     "text": [
      "Datos no etiquetados: (33500, 32, 32, 3)\n",
      "Datos etiquetados entrenamiento: (8250, 32, 32, 3)\n",
      "Etiquetas entrenamiento: (8250, 1)\n",
      "Datos validación: (8250, 32, 32, 3)\n",
      "Etiquetas validación: (8250, 1)\n",
      "Datos prueba: (10000, 32, 32, 3)\n",
      "Etiquetas prueba: (10000, 1)\n"
     ]
    }
   ],
   "source": [
    "#(x_train, y_train), (x_test, y_test) = DatasetProcess.load()\n",
    "\n",
    "\n",
    "# Aplicar la función hold_out\n",
    "#(x_train_no_labeled, x_train_labeled, y_train_labeled), (x_val, y_val), (x_test, y_test) = DatasetProcess.hold_out(\n",
    "#    (x_train, y_train), (x_test, y_test), validation_size=1000\n",
    "#)\n",
    "\n",
    "#x_train_labeled = x_train_labeled.astype('float32') / 255.0\n",
    "#x_val = x_val.astype('float32') / 255.0\n",
    "#x_test = x_test.astype('float32') / 255.0\n",
    "\n",
    "# Verificar las dimensiones\n",
    "print(f\"Datos no etiquetados: {unlabeled_train.shape}\")\n",
    "print(f\"Datos etiquetados entrenamiento: {x_train.shape}\")\n",
    "print(f\"Etiquetas entrenamiento: {y_train.shape}\")\n",
    "print(f\"Datos validación: {x_val.shape}\")\n",
    "print(f\"Etiquetas validación: {y_val.shape}\")\n",
    "print(f\"Datos prueba: {x_test.shape}\")\n",
    "print(f\"Etiquetas prueba: {y_test.shape}\")"
   ]
  },
  {
   "cell_type": "markdown",
   "metadata": {},
   "source": [
    "# EJERCICIO 1\n",
    "\n",
    "Entrena un modelo, creado sobre TensorFlow, haciendo uso únicamente de las instancias etiquetadas de entrenamiento. Dicho modelo debe de tener al menos cuatro capas densas y/o convolucionales.\n",
    "\n",
    "Responde a las siguientes preguntas:\n",
    "\n",
    "1. ¿Qué red has escogido? ¿Por qué? ¿Cómo la has entrenado?\n",
    "2. ¿Cuál es el rendimiento del modelo en entrenamiento? ¿Y en prueba?\n",
    "3. ¿Qué conclusiones sacas de los resultados detallados en el punto anterior?"
   ]
  },
  {
   "cell_type": "code",
   "execution_count": null,
   "metadata": {
    "scrolled": true
   },
   "outputs": [],
   "source": [
    "model_base = ConvModel()\n",
    "history_base = model_base.fit(\n",
    "    x_train, \n",
    "    y_train,\n",
    "    validation_data=(x_val, y_val),\n",
    "    batch_size=128,\n",
    "    epochs=1\n",
    ")"
   ]
  },
  {
   "cell_type": "code",
   "execution_count": null,
   "metadata": {},
   "outputs": [],
   "source": [
    "# Evalúa con el conjunto de prueba\n",
    "test_accuracy = model_base.score(x_test, y_test)\n",
    "print(f\"Accuracy en conjunto de prueba: {test_accuracy}\")\n",
    "\n",
    "model_base.plot(history_base)"
   ]
  },
  {
   "cell_type": "markdown",
   "metadata": {},
   "source": [
    "# EJERCICIO 2\n",
    "\n",
    "Entrena el mismo modelo, incorporando las instancias no etiquetadas de entrenamiento mediante la técnica de auto-aprendizaje. Opcionalmente, se ponderará cada instancia de entrada en función de su calidad (o certeza).\n",
    "\n",
    "Responde a las siguientes preguntas:\n",
    "1. ¿Qué parámetros has definido para el entrenamiento?\n",
    "2. ¿Cuál es el rendimiento del modelo en entrenamiento? ¿Y en prueba?\n",
    "3. ¿Se mejoran los resultados obtenidos en el Ejercicio 1?\n",
    "4. ¿Qué conclusiones sacas de los resultados detallados en los puntos anteriores?"
   ]
  },
  {
   "cell_type": "code",
   "execution_count": null,
   "metadata": {},
   "outputs": [],
   "source": [
    "# Función para crear modelos consistentes durante self-training\n",
    "def create_model():\n",
    "    return ConvModel(\n",
    "        learning_rate=0.0005,  # Learning rate reducido para fine-tuning\n",
    "        dropout_prob=0.25,     \n",
    "        l2_lambda=0.005        \n",
    "    )\n",
    "\n",
    "# Aplica self-training con datos no etiquetados\n",
    "final_model = ConvModel.self_training_v2(\n",
    "    model_func=create_model,\n",
    "    x_train=x_train,\n",
    "    y_train=y_train,  \n",
    "    unlabeled_data=unlabeled_train,\n",
    "    validation_data=(x_val, y_val),\n",
    "    thresh=0.8,             \n",
    "    train_epochs=1,\n",
    "    verbose=1\n",
    ")\n",
    "\n",
    "# Evalúa el modelo final\n",
    "final_accuracy = final_model.score(x_test, y_test)\n",
    "print(f\"Accuracy del modelo final con self-training: {final_accuracy}\")\n",
    "print(f\"Mejora respecto al modelo base: {final_accuracy - test_accuracy:.4f}\")"
   ]
  },
  {
   "cell_type": "markdown",
   "metadata": {},
   "source": [
    "# EJERCICIO 3\n",
    "\n",
    "Entrena un modelo de aprendizaje semisupervisado de tipo autoencoder en dos pasos (primero el autoencoder, después el clasificador). La arquitectura del encoder debe ser exactamente la misma que la definida en los Ejercicios 1 y 2, a excepción del último bloque de capas.\n",
    "\n",
    "Responde a las siguientes preguntas:\n",
    "1. ¿Cuál es la arquitectura del modelo? ¿Y sus hiperparámetros?\n",
    "2. ¿Cuál es el rendimiento del modelo en entrenamiento? ¿Y en prueba?\n",
    "3. ¿Se mejoran los resultados obtenidos en los Ejercicios 1 y 2?\n",
    "4. ¿Qué conclusiones sacas de los resultados detallados en los puntos anteriores?"
   ]
  },
  {
   "cell_type": "code",
   "execution_count": null,
   "metadata": {},
   "outputs": [],
   "source": [
    "autoencoder = TwoStepAutoEncoder(\n",
    "                                input_shape=unlabeled_train[0].shape,\n",
    "                                learning_rate=0.006,\n",
    "                                l2_lambda=0.0005,\n",
    "                                dropout_prob=0.1)\n",
    "classifier = TwoStepClassifier(\n",
    "                              l2_lambda=0.0005,\n",
    "                              dropout_prob=0.05,\n",
    "                               learning_rate=0.05)\n"
   ]
  },
  {
   "cell_type": "code",
   "execution_count": null,
   "metadata": {
    "scrolled": true
   },
   "outputs": [],
   "source": [
    "TwoStepTraining(autoencoder=autoencoder, \n",
    "                classifier=classifier, \n",
    "                x_train=x_train, \n",
    "                y_train=one_hot_train, \n",
    "                unlabeled_train=unlabeled_train, \n",
    "                validation_data=(x_val, one_hot_val),\n",
    "                batch_size_autoencoder=256,\n",
    "                epochs_autoencoder=1,\n",
    "                batch_size_classifier=4096,\n",
    "                epochs_classifier=405)"
   ]
  },
  {
   "cell_type": "code",
   "execution_count": null,
   "metadata": {},
   "outputs": [],
   "source": [
    "reconstruction_plot(autoencoder, x_test)"
   ]
  },
  {
   "cell_type": "code",
   "execution_count": null,
   "metadata": {},
   "outputs": [],
   "source": [
    "autoencoder.score(x_test)"
   ]
  },
  {
   "cell_type": "markdown",
   "metadata": {},
   "source": [
    "# EJERCICIO 4\n",
    "\n",
    "Entrena un modelo de aprendizaje semisupervisado de tipo autoencoder en un paso (autoencoder y clasificador al mismo tiempo). La arquitectura del autoencoder será la misma que la definida en el Ejercicio 3, y la combinación de encoder y clasificador será igual a la arquitectura definida en el\n",
    "Ejercicio 1.\n",
    "\n",
    "Responde a las siguientes preguntas:\n",
    "1. ¿Cuál es la arquitectura del modelo? ¿Y sus hiperparámetros?\n",
    "2. ¿Cuál es el rendimiento del modelo en entrenamiento? ¿Y en prueba?\n",
    "3. ¿Se mejoran los resultados obtenidos en los ejercicios anteriores?\n",
    "4. ¿Qué conclusiones sacas de los resultados detallados en los puntos anteriores?"
   ]
  },
  {
   "cell_type": "code",
   "execution_count": 3,
   "metadata": {
    "scrolled": true
   },
   "outputs": [
    {
     "name": "stderr",
     "output_type": "stream",
     "text": [
      "2025-04-04 10:57:36.985038: I metal_plugin/src/device/metal_device.cc:1154] Metal device set to: Apple M1\n",
      "2025-04-04 10:57:36.985115: I metal_plugin/src/device/metal_device.cc:296] systemMemory: 8.00 GB\n",
      "2025-04-04 10:57:36.985130: I metal_plugin/src/device/metal_device.cc:313] maxCacheSize: 2.67 GB\n",
      "2025-04-04 10:57:36.985177: I tensorflow/core/common_runtime/pluggable_device/pluggable_device_factory.cc:305] Could not identify NUMA node of platform GPU ID 0, defaulting to 0. Your kernel may not have been built with NUMA support.\n",
      "2025-04-04 10:57:36.985209: I tensorflow/core/common_runtime/pluggable_device/pluggable_device_factory.cc:271] Created TensorFlow device (/job:localhost/replica:0/task:0/device:GPU:0 with 0 MB memory) -> physical PluggableDevice (device: 0, name: METAL, pci bus id: <undefined>)\n"
     ]
    }
   ],
   "source": [
    "one_step_autoencoder = OneStepAutoencoder(input_shape=unlabeled_train[0].shape,\n",
    "                                learning_rate=0.0015,\n",
    "                                decoder_extra_loss_weight = 0.45,\n",
    "                                l2_lambda=0.00005,\n",
    "                                dropout_prob=0.05)"
   ]
  },
  {
   "cell_type": "code",
   "execution_count": 4,
   "metadata": {
    "scrolled": true
   },
   "outputs": [
    {
     "name": "stderr",
     "output_type": "stream",
     "text": [
      "2025-04-04 10:57:41.745475: I tensorflow/core/grappler/optimizers/custom_graph_optimizer_registry.cc:117] Plugin optimizer for device_type GPU is enabled.\n"
     ]
    },
    {
     "name": "stdout",
     "output_type": "stream",
     "text": [
      "\u001b[1m82/82\u001b[0m \u001b[32m━━━━━━━━━━━━━━━━━━━━\u001b[0m\u001b[37m\u001b[0m \u001b[1m237s\u001b[0m 3s/step - classifier_accuracy: 0.0238 - classifier_loss: 0.9097 - decoder_loss: 0.0601 - loss: 0.6990\n"
     ]
    }
   ],
   "source": [
    "h = OneStepTraining(one_step_autoencoder, \n",
    "                    x_train=x_train, \n",
    "                    y_train=one_hot_train, \n",
    "                    unlabeled_train=unlabeled_train,\n",
    "                    batch_size=512,\n",
    "                    epochs=1,\n",
    "                    patience=10)"
   ]
  },
  {
   "cell_type": "code",
   "execution_count": 5,
   "metadata": {
    "scrolled": true
   },
   "outputs": [
    {
     "name": "stdout",
     "output_type": "stream",
     "text": [
      "\u001b[1m1/1\u001b[0m \u001b[32m━━━━━━━━━━━━━━━━━━━━\u001b[0m\u001b[37m\u001b[0m \u001b[1m1s\u001b[0m 643ms/step\n"
     ]
    },
    {
     "data": {
      "image/png": "[encoded data removed]",
      "text/plain": [
       "<Figure size 1000x500 with 2 Axes>"
      ]
     },
     "metadata": {},
     "output_type": "display_data"
    }
   ],
   "source": [
    "reconstruction_plot(one_step_autoencoder, x_test)"
   ]
  },
  {
   "cell_type": "code",
   "execution_count": 6,
   "metadata": {
    "scrolled": true
   },
   "outputs": [
    {
     "name": "stdout",
     "output_type": "stream",
     "text": [
      "\u001b[1m313/313\u001b[0m \u001b[32m━━━━━━━━━━━━━━━━━━━━\u001b[0m\u001b[37m\u001b[0m \u001b[1m7s\u001b[0m 21ms/step\n"
     ]
    },
    {
     "data": {
      "text/plain": [
       "0.01"
      ]
     },
     "execution_count": 6,
     "metadata": {},
     "output_type": "execute_result"
    }
   ],
   "source": [
    "one_step_autoencoder.score(x_test, y_test)"
   ]
  },
  {
   "cell_type": "markdown",
   "metadata": {},
   "source": [
    "# EJERCICIO 5\n",
    "\n",
    "Repite el mismo entrenamiento de los Ejercicios 1-4, pero eliminando las instancias no etiquetadas\n",
    "más atípicas con respecto a los datos etiquetados. Se cumplirán los siguientes puntos:\n",
    "- La arquitectura de la red de clasificación en una clase será la misma a la utilizada en el\n",
    "clasificador del Ejercicio 1, a excepción de la capa de salida.\n",
    "- Utiliza la técnica explicada en el Notebook 5, usando un valor de 𝑣 = 0,9.\n",
    "\n",
    "Responde a la siguiente pregunta:\n",
    "1. ¿Se mejoran los resultados con respecto a los anteriores ejercicios? ¿Qué conclusiones sacas de estos resultados?"
   ]
  },
  {
   "cell_type": "code",
   "execution_count": 4,
   "metadata": {
    "scrolled": true
   },
   "outputs": [
    {
     "name": "stderr",
     "output_type": "stream",
     "text": [
      "/Users/pepe/carrera/3/2/ma2/ma2Python12/lib/python3.12/site-packages/keras/src/layers/preprocessing/tf_data_layer.py:19: UserWarning: Do not pass an `input_shape`/`input_dim` argument to a layer. When using Sequential models, prefer using an `Input(shape)` object as the first layer in the model instead.\n",
      "  super().__init__(**kwargs)\n",
      "2025-04-03 23:44:05.002775: I metal_plugin/src/device/metal_device.cc:1154] Metal device set to: Apple M1\n",
      "2025-04-03 23:44:05.003053: I metal_plugin/src/device/metal_device.cc:296] systemMemory: 8.00 GB\n",
      "2025-04-03 23:44:05.003085: I metal_plugin/src/device/metal_device.cc:313] maxCacheSize: 2.67 GB\n",
      "2025-04-03 23:44:05.003349: I tensorflow/core/common_runtime/pluggable_device/pluggable_device_factory.cc:305] Could not identify NUMA node of platform GPU ID 0, defaulting to 0. Your kernel may not have been built with NUMA support.\n",
      "2025-04-03 23:44:05.003403: I tensorflow/core/common_runtime/pluggable_device/pluggable_device_factory.cc:271] Created TensorFlow device (/job:localhost/replica:0/task:0/device:GPU:0 with 0 MB memory) -> physical PluggableDevice (device: 0, name: METAL, pci bus id: <undefined>)\n",
      "/Users/pepe/carrera/3/2/ma2/ma2Python12/lib/python3.12/site-packages/keras/src/layers/convolutional/base_conv.py:107: UserWarning: Do not pass an `input_shape`/`input_dim` argument to a layer. When using Sequential models, prefer using an `Input(shape)` object as the first layer in the model instead.\n",
      "  super().__init__(activity_regularizer=activity_regularizer, **kwargs)\n"
     ]
    },
    {
     "name": "stdout",
     "output_type": "stream",
     "text": [
      "Epoch 1/2\n"
     ]
    },
    {
     "name": "stderr",
     "output_type": "stream",
     "text": [
      "2025-04-03 23:44:06.559175: I tensorflow/core/grappler/optimizers/custom_graph_optimizer_registry.cc:117] Plugin optimizer for device_type GPU is enabled.\n"
     ]
    },
    {
     "name": "stdout",
     "output_type": "stream",
     "text": [
      "\u001b[1m258/258\u001b[0m \u001b[32m━━━━━━━━━━━━━━━━━━━━\u001b[0m\u001b[37m\u001b[0m \u001b[1m4s\u001b[0m 16ms/step- loss: 0.3736 \n",
      "Cambiando r a 0.69512767 , max: 0.70241475 , min: 0.6930452\n",
      "\u001b[1m33/33\u001b[0m \u001b[32m━━━━━━━━━━━━━━━━━━━━\u001b[0m\u001b[37m\u001b[0m \u001b[1m26s\u001b[0m 656ms/step - loss: 0.3712\n",
      "Epoch 2/2\n",
      "\u001b[1m258/258\u001b[0m \u001b[32m━━━━━━━━━━━━━━━━━━━━\u001b[0m\u001b[37m\u001b[0m \u001b[1m4s\u001b[0m 15ms/step- loss: 0.0720 \n",
      "Cambiando r a 0.6791968 , max: 0.69847983 , min: 0.67324144\n",
      "\u001b[1m33/33\u001b[0m \u001b[32m━━━━━━━━━━━━━━━━━━━━\u001b[0m\u001b[37m\u001b[0m \u001b[1m21s\u001b[0m 618ms/step - loss: 0.0717\n"
     ]
    },
    {
     "data": {
      "text/plain": [
       "<Sequential name=sequential, built=True>"
      ]
     },
     "execution_count": 4,
     "metadata": {},
     "output_type": "execute_result"
    }
   ],
   "source": [
    "anomalyDetector = AnomalyDetector(input_shape=(32,32,3), \n",
    "                        nu=.9,\n",
    "                        l2_lambda=0.0,\n",
    "                        learning_rate=0.0001,\n",
    "                        dropout_prob=0.0)\n",
    "anomalyDetector.fit(x_train, \n",
    "          batch_size=256, \n",
    "          epochs=2, \n",
    "          delta=.025, \n",
    "          steps=100)"
   ]
  },
  {
   "cell_type": "code",
   "execution_count": null,
   "metadata": {},
   "outputs": [],
   "source": [
    "filtered_unlabeled_train, is_typical = anomaly_report(anomalyDetector, unlabeled_train)"
   ]
  },
  {
   "cell_type": "code",
   "execution_count": null,
   "metadata": {},
   "outputs": [],
   "source": [
    "# creo que va pero no estoy seguro\n",
    "#\n",
    "# plot_atipicos(filtered_unlabeled_train, is_typical, unlabeled_train)"
   ]
  },
  {
   "cell_type": "code",
   "execution_count": null,
   "metadata": {},
   "outputs": [],
   "source": [
    "# Ejercicio 2 con datos filtrados\n",
    "model_self_filtered = ConvModel.self_training_v2(\n",
    "    model_func=create_model,\n",
    "    x_train=x_train_labeled,\n",
    "    y_train=y_train_labeled,\n",
    "    unlabeled_data=filtered_unlabeled_train,\n",
    "    validation_data=(x_val, y_val),\n",
    "    thresh=0.8,\n",
    "    train_epochs=1\n",
    ")\n",
    "\n",
    "# Evaluar los modelos filtrados\n",
    "test_accuracy_self_filtered = model_self_filtered.score(x_test, y_test)\n",
    "print(f\"Accuracy en conjunto de prueba (self-training filtrado): {test_accuracy_self_filtered}\")"
   ]
  },
  {
   "cell_type": "code",
   "execution_count": null,
   "metadata": {},
   "outputs": [],
   "source": [
    "# Ejercicio 3 con datos filtrados\n",
    "autoencoder_filtered = TwoStepAutoEncoder(\n",
    "    input_shape=filtered_unlabeled_train[0].shape,\n",
    "    learning_rate=0.006,\n",
    "    l2_lambda=0.0005,\n",
    "    dropout_prob=0.1\n",
    ")\n",
    "\n",
    "classifier_filtered = TwoStepClassifier(\n",
    "    l2_lambda=0.0005,\n",
    "    dropout_prob=0.05,\n",
    "    learning_rate=0.05\n",
    ")\n",
    "\n",
    "history_two_step_filtered = TwoStepTraining(\n",
    "    autoencoder=autoencoder_filtered, \n",
    "    classifier=classifier_filtered, \n",
    "    x_train=x_train, \n",
    "    y_train=one_hot_train, \n",
    "    unlabeled_train=filtered_unlabeled_train, \n",
    "    validation_data=(x_val, one_hot_val),\n",
    "    batch_size_autoencoder=256,\n",
    "    epochs_autoencoder=50,\n",
    "    batch_size_classifier=256,\n",
    "    epochs_classifier=100\n",
    ")\n",
    "\n",
    "# Evaluar modelos\n",
    "test_accuracy_two_step_filtered = classifier_filtered.score(x_test, y_test)  # No se si es asi como se evaluaria este la verdad supongo que si\n",
    "print(f\"Accuracy del modelo one-step filtrado: {test_accuracy_two_step_filtered}\")"
   ]
  },
  {
   "cell_type": "code",
   "execution_count": null,
   "metadata": {},
   "outputs": [],
   "source": [
    "# Ejercicio 4 con datos filtrados\n",
    "one_step_autoencoder_filtered = OneStepAutoencoder(\n",
    "    input_shape=filtered_unlabeled_train[0].shape,\n",
    "    learning_rate=0.0015,\n",
    "    decoder_extra_loss_weight=0.45,\n",
    "    l2_lambda=0.00005,\n",
    "    dropout_prob=0.05\n",
    ")\n",
    "\n",
    "history_one_step_filtered = OneStepTraining(\n",
    "    one_step_autoencoder_filtered, \n",
    "    x_train=x_train, \n",
    "    y_train=one_hot_train, \n",
    "    unlabeled_train=filtered_unlabeled_train,\n",
    "    batch_size=256,\n",
    "    epochs=100,\n",
    "    patience=10\n",
    ")\n",
    "# Evaluar modelos\n",
    "test_accuracy_one_step_filtered = one_step_autoencoder_filtered.score(x_test, y_test)\n",
    "print(f\"Accuracy del modelo one-step filtrado: {test_accuracy_one_step_filtered}\")"
   ]
  },
  {
   "cell_type": "markdown",
   "metadata": {},
   "source": [
    "# EJERCICIO 6\n",
    "\n",
    "Repite los Ejercicios 3-5 cambiando el autencoder por la técnica definida en el apartado “Hay vida más allá del autoencoder” del Notebook 4. Contesta a las preguntas de dichos ejercicios. Se cumplirán los siguientes puntos:\n",
    "\n",
    "1. La arquitectura de la red será igual a la parte encoder del autencoder definido en los\n",
    "ejercicios anteriores.\n",
    "2. El modelo debe entrenar correctamente."
   ]
  },
  {
   "cell_type": "code",
   "execution_count": 5,
   "metadata": {},
   "outputs": [],
   "source": [
    "# ejercicio 3 two step con todos los datos\n",
    "\n",
    "cModel = ContrastiveModel(unlabeled_train[0].shape, \n",
    "                          learning_rate=0.05, \n",
    "                          lambda_param=.9,\n",
    "                          l2_lambda=0.001,\n",
    "                          dropout_prob=0.001)\n",
    "classifier = TwoStepClassifier(\n",
    "                              l2_lambda=0.0005,\n",
    "                              dropout_prob=0.05,\n",
    "                               learning_rate=0.05)\n"
   ]
  },
  {
   "cell_type": "code",
   "execution_count": 6,
   "metadata": {},
   "outputs": [
    {
     "name": "stdout",
     "output_type": "stream",
     "text": [
      "...................................................................................................................................Epoch 1/20, Total Loss: 5.1303, Contrastive Loss: 4.9989, Clustering Loss: 0.1461\n",
      "..................................................................................................................................Epoch 2/20, Total Loss: 4.5734, Contrastive Loss: 4.5734, Clustering Loss: 0.0000\n",
      ".........................................."
     ]
    },
    {
     "ename": "KeyboardInterrupt",
     "evalue": "",
     "output_type": "error",
     "traceback": [
      "\u001b[31m---------------------------------------------------------------------------\u001b[39m",
      "\u001b[31mKeyboardInterrupt\u001b[39m                         Traceback (most recent call last)",
      "\u001b[32m/var/folders/1l/sdrz_tw104ld922_w0xnl5840000gn/T/ipykernel_2703/2410891534.py\u001b[39m in \u001b[36m?\u001b[39m\u001b[34m()\u001b[39m\n\u001b[32m----> \u001b[39m\u001b[32m1\u001b[39m TwoStepTraining(autoencoder=cModel, \n\u001b[32m      2\u001b[39m                 classifier=classifier,\n\u001b[32m      3\u001b[39m                 x_train=x_train,\n\u001b[32m      4\u001b[39m                 y_train=one_hot_train,\n",
      "\u001b[32m~/repositorios/3year2sem/maai/p2/AutoEncoder.py\u001b[39m in \u001b[36m?\u001b[39m\u001b[34m(autoencoder, classifier, x_train, y_train, unlabeled_train, validation_data, batch_size_autoencoder, epochs_autoencoder, batch_size_classifier, epochs_classifier, contrastive)\u001b[39m\n\u001b[32m    157\u001b[39m \u001b[38;5;28;01mdef\u001b[39;00m TwoStepTraining(autoencoder, classifier, x_train, y_train, unlabeled_train, validation_data=\u001b[38;5;28;01mNone\u001b[39;00m, batch_size_autoencoder=\u001b[32m1024\u001b[39m, epochs_autoencoder=\u001b[32m100\u001b[39m, batch_size_classifier=\u001b[32m1024\u001b[39m, epochs_classifier=\u001b[32m100\u001b[39m, contrastive=\u001b[38;5;28;01mFalse\u001b[39;00m):\n\u001b[32m    158\u001b[39m \n\u001b[32m    159\u001b[39m     all_x = np.vstack((x_train, unlabeled_train))\n\u001b[32m    160\u001b[39m     \u001b[38;5;28;01mif\u001b[39;00m contrastive:\n\u001b[32m--> \u001b[39m\u001b[32m161\u001b[39m         autoencoder.train(unlabeled_train, epochs=epochs_autoencoder, batch_size= batch_size_autoencoder)\n\u001b[32m    162\u001b[39m     \u001b[38;5;28;01melse\u001b[39;00m:\n\u001b[32m    163\u001b[39m         autoencoder.fit(all_x, batch_size=batch_size_autoencoder, epochs=epochs_autoencoder, validation_data=(validation_data[\u001b[32m0\u001b[39m],validation_data[\u001b[32m0\u001b[39m]))\n\u001b[32m    164\u001b[39m     x_coded = autoencoder.get_encoded_data(x_train)\n",
      "\u001b[32m~/repositorios/3year2sem/maai/p2/Contrastive.py\u001b[39m in \u001b[36m?\u001b[39m\u001b[34m(self, dataset, epochs, batch_size, temperature)\u001b[39m\n\u001b[32m    182\u001b[39m             batch_count = \u001b[32m0\u001b[39m\n\u001b[32m    183\u001b[39m \n\u001b[32m    184\u001b[39m             \u001b[38;5;28;01mfor\u001b[39;00m data \u001b[38;5;28;01min\u001b[39;00m self.mini_batches(dataset, batch_size=batch_size):\n\u001b[32m    185\u001b[39m                 print(\u001b[33m'.'\u001b[39m,end=\u001b[33m''\u001b[39m)\n\u001b[32m--> \u001b[39m\u001b[32m186\u001b[39m                 loss_dict = self.train_step(data, temperature=temperature)\n\u001b[32m    187\u001b[39m                 epoch_total_loss += loss_dict[\u001b[33m\"loss\"\u001b[39m]\n\u001b[32m    188\u001b[39m                 epoch_contrastive_loss += loss_dict[\u001b[33m\"contrastive_loss\"\u001b[39m]\n\u001b[32m    189\u001b[39m                 epoch_clustering_loss += loss_dict[\u001b[33m\"clustering_loss\"\u001b[39m]\n",
      "\u001b[32m~/repositorios/3year2sem/maai/p2/Contrastive.py\u001b[39m in \u001b[36m?\u001b[39m\u001b[34m(self, data, temperature)\u001b[39m\n\u001b[32m    154\u001b[39m \n\u001b[32m    155\u001b[39m         \u001b[38;5;66;03m# Calcular gradientes y actualizar pesos\u001b[39;00m\n\u001b[32m    156\u001b[39m         gradients = tape.gradient(total_loss, self.encoder.trainable_variables + self.cluster.trainable_variables)\n\u001b[32m    157\u001b[39m \n\u001b[32m--> \u001b[39m\u001b[32m158\u001b[39m         grad_norm = tf.linalg.global_norm(gradients)\n\u001b[32m    159\u001b[39m \n\u001b[32m    160\u001b[39m         self.optimicer.apply_gradients(zip(gradients, self.encoder.trainable_variables + self.cluster.trainable_variables))\n\u001b[32m    161\u001b[39m \n",
      "\u001b[32m~/carrera/3/2/ma2/ma2Python12/lib/python3.12/site-packages/tensorflow/python/util/traceback_utils.py\u001b[39m in \u001b[36m?\u001b[39m\u001b[34m(*args, **kwargs)\u001b[39m\n\u001b[32m    151\u001b[39m     \u001b[38;5;28;01mexcept\u001b[39;00m Exception \u001b[38;5;28;01mas\u001b[39;00m e:\n\u001b[32m    152\u001b[39m       filtered_tb = _process_traceback_frames(e.__traceback__)\n\u001b[32m    153\u001b[39m       \u001b[38;5;28;01mraise\u001b[39;00m e.with_traceback(filtered_tb) \u001b[38;5;28;01mfrom\u001b[39;00m \u001b[38;5;28;01mNone\u001b[39;00m\n\u001b[32m    154\u001b[39m     \u001b[38;5;28;01mfinally\u001b[39;00m:\n\u001b[32m--> \u001b[39m\u001b[32m155\u001b[39m       \u001b[38;5;28;01mdel\u001b[39;00m filtered_tb\n",
      "\u001b[32m~/carrera/3/2/ma2/ma2Python12/lib/python3.12/site-packages/tensorflow/python/util/dispatch.py\u001b[39m in \u001b[36m?\u001b[39m\u001b[34m(*args, **kwargs)\u001b[39m\n\u001b[32m   1257\u001b[39m \n\u001b[32m   1258\u001b[39m       \u001b[38;5;66;03m# Fallback dispatch system (dispatch v1):\u001b[39;00m\n\u001b[32m   1259\u001b[39m       \u001b[38;5;28;01mtry\u001b[39;00m:\n\u001b[32m   1260\u001b[39m         \u001b[38;5;28;01mreturn\u001b[39;00m dispatch_target(*args, **kwargs)\n\u001b[32m-> \u001b[39m\u001b[32m1261\u001b[39m       \u001b[38;5;28;01mexcept\u001b[39;00m (TypeError, ValueError):\n\u001b[32m   1262\u001b[39m         \u001b[38;5;66;03m# Note: convert_to_eager_tensor currently raises a ValueError, not a\u001b[39;00m\n\u001b[32m   1263\u001b[39m         \u001b[38;5;66;03m# TypeError, when given unexpected types.  So we need to catch both.\u001b[39;00m\n\u001b[32m   1264\u001b[39m         result = dispatch(op_dispatch_handler, args, kwargs)\n",
      "\u001b[32m~/carrera/3/2/ma2/ma2Python12/lib/python3.12/site-packages/tensorflow/python/ops/clip_ops.py\u001b[39m in \u001b[36m?\u001b[39m\u001b[34m(t_list, name)\u001b[39m\n\u001b[32m    284\u001b[39m         \u001b[38;5;28;01mwith\u001b[39;00m ops.colocate_with(v):\n\u001b[32m    285\u001b[39m           half_squared_norms.append(gen_nn_ops.l2_loss(v))\n\u001b[32m    286\u001b[39m \n\u001b[32m    287\u001b[39m     half_squared_norm = math_ops.reduce_sum(\n\u001b[32m--> \u001b[39m\u001b[32m288\u001b[39m         array_ops_stack.stack(half_squared_norms))\n\u001b[32m    289\u001b[39m \n\u001b[32m    290\u001b[39m     norm = math_ops.sqrt(\n\u001b[32m    291\u001b[39m         half_squared_norm *\n",
      "\u001b[32m~/carrera/3/2/ma2/ma2Python12/lib/python3.12/site-packages/tensorflow/python/util/traceback_utils.py\u001b[39m in \u001b[36m?\u001b[39m\u001b[34m(*args, **kwargs)\u001b[39m\n\u001b[32m    151\u001b[39m     \u001b[38;5;28;01mexcept\u001b[39;00m Exception \u001b[38;5;28;01mas\u001b[39;00m e:\n\u001b[32m    152\u001b[39m       filtered_tb = _process_traceback_frames(e.__traceback__)\n\u001b[32m    153\u001b[39m       \u001b[38;5;28;01mraise\u001b[39;00m e.with_traceback(filtered_tb) \u001b[38;5;28;01mfrom\u001b[39;00m \u001b[38;5;28;01mNone\u001b[39;00m\n\u001b[32m    154\u001b[39m     \u001b[38;5;28;01mfinally\u001b[39;00m:\n\u001b[32m--> \u001b[39m\u001b[32m155\u001b[39m       \u001b[38;5;28;01mdel\u001b[39;00m filtered_tb\n",
      "\u001b[32m~/carrera/3/2/ma2/ma2Python12/lib/python3.12/site-packages/tensorflow/python/util/dispatch.py\u001b[39m in \u001b[36m?\u001b[39m\u001b[34m(*args, **kwargs)\u001b[39m\n\u001b[32m   1257\u001b[39m \n\u001b[32m   1258\u001b[39m       \u001b[38;5;66;03m# Fallback dispatch system (dispatch v1):\u001b[39;00m\n\u001b[32m   1259\u001b[39m       \u001b[38;5;28;01mtry\u001b[39;00m:\n\u001b[32m   1260\u001b[39m         \u001b[38;5;28;01mreturn\u001b[39;00m dispatch_target(*args, **kwargs)\n\u001b[32m-> \u001b[39m\u001b[32m1261\u001b[39m       \u001b[38;5;28;01mexcept\u001b[39;00m (TypeError, ValueError):\n\u001b[32m   1262\u001b[39m         \u001b[38;5;66;03m# Note: convert_to_eager_tensor currently raises a ValueError, not a\u001b[39;00m\n\u001b[32m   1263\u001b[39m         \u001b[38;5;66;03m# TypeError, when given unexpected types.  So we need to catch both.\u001b[39;00m\n\u001b[32m   1264\u001b[39m         result = dispatch(op_dispatch_handler, args, kwargs)\n",
      "\u001b[32m~/carrera/3/2/ma2/ma2Python12/lib/python3.12/site-packages/tensorflow/python/ops/array_ops_stack.py\u001b[39m in \u001b[36m?\u001b[39m\u001b[34m(values, axis, name)\u001b[39m\n\u001b[32m     71\u001b[39m   \u001b[38;5;28;01mif\u001b[39;00m axis == \u001b[32m0\u001b[39m:\n\u001b[32m     72\u001b[39m     \u001b[38;5;28;01mtry\u001b[39;00m:\n\u001b[32m     73\u001b[39m       \u001b[38;5;66;03m# If the input is a constant list, it can be converted to a constant op\u001b[39;00m\n\u001b[32m     74\u001b[39m       \u001b[38;5;28;01mreturn\u001b[39;00m ops.convert_to_tensor(values, name=name)\n\u001b[32m---> \u001b[39m\u001b[32m75\u001b[39m     \u001b[38;5;28;01mexcept\u001b[39;00m (TypeError, ValueError, NotImplementedError):\n\u001b[32m     76\u001b[39m       \u001b[38;5;28;01mpass\u001b[39;00m  \u001b[38;5;66;03m# Input list contains non-constant tensors\u001b[39;00m\n\u001b[32m     77\u001b[39m \n\u001b[32m     78\u001b[39m   value_shape = ops.convert_to_tensor(values[\u001b[32m0\u001b[39m], name=name)._shape_tuple()  \u001b[38;5;66;03m# pylint: disable=protected-access\u001b[39;00m\n",
      "\u001b[32m~/carrera/3/2/ma2/ma2Python12/lib/python3.12/site-packages/tensorflow/python/profiler/trace.py\u001b[39m in \u001b[36m?\u001b[39m\u001b[34m(*args, **kwargs)\u001b[39m\n\u001b[32m    179\u001b[39m     \u001b[38;5;28;01mdef\u001b[39;00m wrapped(*args, **kwargs):\n\u001b[32m    180\u001b[39m       \u001b[38;5;28;01mif\u001b[39;00m enabled:\n\u001b[32m    181\u001b[39m         \u001b[38;5;28;01mwith\u001b[39;00m Trace(trace_name, **trace_kwargs):\n\u001b[32m    182\u001b[39m           \u001b[38;5;28;01mreturn\u001b[39;00m func(*args, **kwargs)\n\u001b[32m--> \u001b[39m\u001b[32m183\u001b[39m       \u001b[38;5;28;01mreturn\u001b[39;00m func(*args, **kwargs)\n",
      "\u001b[32m~/carrera/3/2/ma2/ma2Python12/lib/python3.12/site-packages/tensorflow/python/framework/ops.py\u001b[39m in \u001b[36m?\u001b[39m\u001b[34m(value, dtype, name, as_ref, preferred_dtype, dtype_hint, ctx, accepted_result_types)\u001b[39m\n\u001b[32m    709\u001b[39m ) -> Union[EagerTensor, SymbolicTensor]:\n\u001b[32m    710\u001b[39m   \u001b[33m\"\"\"Implementation of the public convert_to_tensor.\"\"\"\u001b[39m\n\u001b[32m    711\u001b[39m   \u001b[38;5;66;03m# TODO(b/142518781): Fix all call-sites and remove redundant arg\u001b[39;00m\n\u001b[32m    712\u001b[39m   preferred_dtype = preferred_dtype \u001b[38;5;28;01mor\u001b[39;00m dtype_hint\n\u001b[32m--> \u001b[39m\u001b[32m713\u001b[39m   return tensor_conversion_registry.convert(\n\u001b[32m    714\u001b[39m       value, dtype, name, as_ref, preferred_dtype, accepted_result_types\n\u001b[32m    715\u001b[39m   )\n",
      "\u001b[32m~/carrera/3/2/ma2/ma2Python12/lib/python3.12/site-packages/tensorflow/python/framework/tensor_conversion_registry.py\u001b[39m in \u001b[36m?\u001b[39m\u001b[34m(value, dtype, name, as_ref, preferred_dtype, accepted_result_types)\u001b[39m\n\u001b[32m    230\u001b[39m                   f\"actual = {ret.dtype.base_dtype.name}\",\n\u001b[32m    231\u001b[39m                   name=name))\n\u001b[32m    232\u001b[39m \n\u001b[32m    233\u001b[39m     \u001b[38;5;28;01mif\u001b[39;00m ret \u001b[38;5;28;01mis\u001b[39;00m \u001b[38;5;28;01mNone\u001b[39;00m:\n\u001b[32m--> \u001b[39m\u001b[32m234\u001b[39m       ret = conversion_func(value, dtype=dtype, name=name, as_ref=as_ref)\n\u001b[32m    235\u001b[39m \n\u001b[32m    236\u001b[39m     \u001b[38;5;28;01mif\u001b[39;00m ret \u001b[38;5;28;01mis\u001b[39;00m NotImplemented:\n\u001b[32m    237\u001b[39m       \u001b[38;5;28;01mcontinue\u001b[39;00m\n",
      "\u001b[32m~/carrera/3/2/ma2/ma2Python12/lib/python3.12/site-packages/tensorflow/python/ops/array_ops.py\u001b[39m in \u001b[36m?\u001b[39m\u001b[34m(v, dtype, name, as_ref)\u001b[39m\n\u001b[32m   1301\u001b[39m   \u001b[38;5;28;01mif\u001b[39;00m dtype \u001b[38;5;28;01mis\u001b[39;00m \u001b[38;5;28;01mNone\u001b[39;00m:\n\u001b[32m   1302\u001b[39m     dtype = inferred_dtype\n\u001b[32m   1303\u001b[39m   \u001b[38;5;28;01melif\u001b[39;00m dtype != inferred_dtype:\n\u001b[32m   1304\u001b[39m     v = nest.map_structure(_cast_nested_seqs_to_dtype(dtype), v)\n\u001b[32m-> \u001b[39m\u001b[32m1305\u001b[39m   \u001b[38;5;28;01mreturn\u001b[39;00m _autopacking_helper(v, dtype, name \u001b[38;5;28;01mor\u001b[39;00m \u001b[33m\"packed\"\u001b[39m)\n",
      "\u001b[32m~/carrera/3/2/ma2/ma2Python12/lib/python3.12/site-packages/tensorflow/python/ops/array_ops.py\u001b[39m in \u001b[36m?\u001b[39m\u001b[34m(list_or_tuple, dtype, name)\u001b[39m\n\u001b[32m   1208\u001b[39m   \u001b[38;5;28;01mif\u001b[39;00m context.executing_eagerly():\n\u001b[32m   1209\u001b[39m     \u001b[38;5;66;03m# NOTE: Fast path when all the items are tensors, this doesn't do any type\u001b[39;00m\n\u001b[32m   1210\u001b[39m     \u001b[38;5;66;03m# checking.\u001b[39;00m\n\u001b[32m   1211\u001b[39m     \u001b[38;5;28;01mif\u001b[39;00m all(isinstance(elem, core.Tensor) \u001b[38;5;28;01mfor\u001b[39;00m elem \u001b[38;5;28;01min\u001b[39;00m list_or_tuple):\n\u001b[32m-> \u001b[39m\u001b[32m1212\u001b[39m       \u001b[38;5;28;01mreturn\u001b[39;00m gen_array_ops.pack(list_or_tuple, name=name)\n\u001b[32m   1213\u001b[39m   must_pack = \u001b[38;5;28;01mFalse\u001b[39;00m\n\u001b[32m   1214\u001b[39m   converted_elems = []\n\u001b[32m   1215\u001b[39m   \u001b[38;5;28;01mwith\u001b[39;00m ops.name_scope(name) \u001b[38;5;28;01mas\u001b[39;00m scope:\n",
      "\u001b[32m~/carrera/3/2/ma2/ma2Python12/lib/python3.12/site-packages/tensorflow/python/ops/gen_array_ops.py\u001b[39m in \u001b[36m?\u001b[39m\u001b[34m(values, axis, name)\u001b[39m\n\u001b[32m   6715\u001b[39m         _ctx, \u001b[33m\"Pack\"\u001b[39m, name, values, \u001b[33m\"axis\"\u001b[39m, axis)\n\u001b[32m   6716\u001b[39m       \u001b[38;5;28;01mreturn\u001b[39;00m _result\n\u001b[32m   6717\u001b[39m     \u001b[38;5;28;01mexcept\u001b[39;00m _core._NotOkStatusException \u001b[38;5;28;01mas\u001b[39;00m e:\n\u001b[32m   6718\u001b[39m       _ops.raise_from_not_ok_status(e, name)\n\u001b[32m-> \u001b[39m\u001b[32m6719\u001b[39m     \u001b[38;5;28;01mexcept\u001b[39;00m _core._FallbackException:\n\u001b[32m   6720\u001b[39m       \u001b[38;5;28;01mpass\u001b[39;00m\n\u001b[32m   6721\u001b[39m     \u001b[38;5;28;01mtry\u001b[39;00m:\n\u001b[32m   6722\u001b[39m       return pack_eager_fallback(\n",
      "\u001b[31mKeyboardInterrupt\u001b[39m: "
     ]
    }
   ],
   "source": [
    "TwoStepTraining(autoencoder=cModel, \n",
    "                classifier=classifier, \n",
    "                x_train=x_train, \n",
    "                y_train=one_hot_train, \n",
    "                unlabeled_train=unlabeled_train, \n",
    "                validation_data=(x_val, one_hot_val),\n",
    "                batch_size_autoencoder=256,\n",
    "                epochs_autoencoder=20,\n",
    "                batch_size_classifier=4096,\n",
    "                epochs_classifier=20, \n",
    "                contrastive=True)"
   ]
  },
  {
   "cell_type": "code",
   "execution_count": null,
   "metadata": {},
   "outputs": [
    {
     "name": "stdout",
     "output_type": "stream",
     "text": [
      ".............................................................................................................................................................................................................................................................................................................................................................\n",
      "Epoch 1/35, Total Loss: 8.1865, Contrastive Loss: 4.1832, Clustering Loss: 0.0279, Supervised Loss: 3.9782\n",
      "............................................................................................................................................................................................................................................................................................................................................................\n",
      "Epoch 2/35, Total Loss: 7.8341, Contrastive Loss: 3.8475, Clustering Loss: 0.0000, Supervised Loss: 3.9866\n",
      "............................................................................................................................................................................................................................................................................................................................................................\n",
      "Epoch 3/35, Total Loss: 7.8146, Contrastive Loss: 3.8226, Clustering Loss: 0.0000, Supervised Loss: 3.9920\n",
      "............................................................................................................................................................................................................................................................................................................................................................\n",
      "Epoch 4/35, Total Loss: 7.8030, Contrastive Loss: 3.8189, Clustering Loss: 0.0000, Supervised Loss: 3.9841\n",
      "............................................................................................................................................................................................................................................................................................................................................................\n",
      "Epoch 5/35, Total Loss: 7.8038, Contrastive Loss: 3.8162, Clustering Loss: 0.0000, Supervised Loss: 3.9877\n",
      "............................................................................................................................................................................................................................................................................................................................................................\n",
      "Epoch 6/35, Total Loss: 7.8018, Contrastive Loss: 3.8174, Clustering Loss: 0.0000, Supervised Loss: 3.9844\n",
      "............................................................................................................................................................................................................................................................................................................................................................\n",
      "Epoch 7/35, Total Loss: 7.8015, Contrastive Loss: 3.8188, Clustering Loss: 0.0000, Supervised Loss: 3.9826\n",
      "............................................................................................................................................................................................................................................................................................................................................................\n",
      "Epoch 8/35, Total Loss: 7.8045, Contrastive Loss: 3.8190, Clustering Loss: 0.0000, Supervised Loss: 3.9855\n",
      "............................................................................................................................................................................................................................................................................................................................................................\n",
      "Epoch 9/35, Total Loss: 7.8076, Contrastive Loss: 3.8218, Clustering Loss: 0.0000, Supervised Loss: 3.9859\n",
      "............................................................................................................................................................................................................................................................................................................................................................\n",
      "Epoch 10/35, Total Loss: 7.8073, Contrastive Loss: 3.8200, Clustering Loss: 0.0000, Supervised Loss: 3.9873\n",
      "............................................................................................................................................................................................................................................................................................................................................................\n",
      "Epoch 11/35, Total Loss: 7.8066, Contrastive Loss: 3.8193, Clustering Loss: 0.0000, Supervised Loss: 3.9873\n",
      "............................................................................................................................................................................................................................................................................................................................................................\n",
      "Epoch 12/35, Total Loss: 7.8082, Contrastive Loss: 3.8202, Clustering Loss: 0.0000, Supervised Loss: 3.9881\n",
      "............................................................................................................................................................................................................................................................................................................................................................\n",
      "Epoch 13/35, Total Loss: 7.8053, Contrastive Loss: 3.8187, Clustering Loss: 0.0000, Supervised Loss: 3.9866\n",
      "............................................................................................................................................................................................................................................................................................................................................................\n",
      "Epoch 14/35, Total Loss: 7.8038, Contrastive Loss: 3.8190, Clustering Loss: 0.0000, Supervised Loss: 3.9848\n",
      "............................................................................................................................................................................................................................................................................................................................................................\n",
      "Epoch 15/35, Total Loss: 7.8051, Contrastive Loss: 3.8181, Clustering Loss: 0.0000, Supervised Loss: 3.9870\n",
      "............................................................................................................................................................................................................................................................................................................................................................\n",
      "Epoch 16/35, Total Loss: 7.8061, Contrastive Loss: 3.8188, Clustering Loss: 0.0000, Supervised Loss: 3.9873\n",
      "............................................................................................................................................................................................................................................................................................................................................................\n",
      "Epoch 17/35, Total Loss: 7.8066, Contrastive Loss: 3.8207, Clustering Loss: 0.0000, Supervised Loss: 3.9859\n",
      "............................................................................................................................................................................................................................................................................................................................................................\n",
      "Epoch 18/35, Total Loss: 7.8054, Contrastive Loss: 3.8188, Clustering Loss: 0.0000, Supervised Loss: 3.9866\n",
      "............................................................................................................................................................................................................................................................................................................................................................\n",
      "Epoch 19/35, Total Loss: 7.8035, Contrastive Loss: 3.8191, Clustering Loss: 0.0000, Supervised Loss: 3.9844\n",
      ".........................................................................................................................................................................................................................."
     ]
    }
   ],
   "source": [
    "# ejercicio 4 ONE STEP con todos los datos\n",
    "\n",
    "cSSLModel = SemiSupervisedContrastiveModel(unlabeled_train[0].shape, \n",
    "                          learning_rate=0.1, \n",
    "                          lambda_param=.9,\n",
    "                          l2_lambda=0.0001,\n",
    "                          dropout_prob=0.001,\n",
    "                          lambda_supervised=1.0)\n",
    "\n",
    "\n",
    "cSSLModel.train(\n",
    "    X_unlabeled=unlabeled_train,  \n",
    "    X_labeled=x_train,        \n",
    "    y_labeled=y_train,       \n",
    "    epochs=35,\n",
    "    batch_size=128\n",
    ")\n",
    "\n",
    "cSSLModel.plot_training_history()"
   ]
  },
  {
   "cell_type": "code",
   "execution_count": null,
   "metadata": {},
   "outputs": [],
   "source": [
    "n_samples = 100\n",
    "test_samples = x_test[:n_samples].reshape(n_samples,32,32,3)\n",
    "\n",
    "cSSLModel.plot_similarity_matrix(test_samples, n_samples=n_samples);"
   ]
  },
  {
   "cell_type": "markdown",
   "metadata": {},
   "source": [
    "---"
   ]
  },
  {
   "cell_type": "code",
   "execution_count": null,
   "metadata": {},
   "outputs": [],
   "source": [
    "# ejercicio 3 two step con los datos filtrados\n",
    "\n",
    "cModel = ContrastiveModel(unlabeled_train[0].shape, \n",
    "                          learning_rate=0.05, \n",
    "                          lambda_param=.9,\n",
    "                          l2_lambda=0.001,\n",
    "                          dropout_prob=0.001)\n",
    "classifier = TwoStepClassifier(\n",
    "                              l2_lambda=0.0005,\n",
    "                              dropout_prob=0.05,\n",
    "                               learning_rate=0.05)"
   ]
  },
  {
   "cell_type": "code",
   "execution_count": null,
   "metadata": {},
   "outputs": [],
   "source": [
    "TwoStepTraining(autoencoder=cModel, \n",
    "                classifier=classifier, \n",
    "                x_train=x_train, \n",
    "                y_train=one_hot_train, \n",
    "                unlabeled_train=filtered_unlabeled_train, # <-\n",
    "                validation_data=(x_val, one_hot_val),\n",
    "                batch_size_autoencoder=256,\n",
    "                epochs_autoencoder=1,\n",
    "                batch_size_classifier=4096,\n",
    "                epochs_classifier=1, \n",
    "                contrastive=True)"
   ]
  },
  {
   "cell_type": "code",
   "execution_count": null,
   "metadata": {},
   "outputs": [],
   "source": [
    "# ejercicio 4 ONE STEP con los datos filtrados\n",
    "\n",
    "cSSLModel = SemiSupervisedContrastiveModel(unlabeled_train[0].shape, \n",
    "                          learning_rate=0.05, \n",
    "                          lambda_param=.9,\n",
    "                          l2_lambda=0.001,\n",
    "                          dropout_prob=0.001,\n",
    "                          lambda_supervised=1.0)\n",
    "\n",
    "\n",
    "cSSLModel.train(\n",
    "    X_unlabeled=filtered_unlabeled_train,  # <-\n",
    "    X_labeled=x_train,        \n",
    "    y_labeled=y_train,       \n",
    "    epochs=6,\n",
    "    batch_size=128\n",
    ")\n",
    "\n",
    "cSSLModel.plot_training_history()"
   ]
  },
  {
   "cell_type": "code",
   "execution_count": null,
   "metadata": {},
   "outputs": [],
   "source": [
    "n_samples = 100\n",
    "test_samples = x_test[:n_samples].reshape(n_samples,32,32,3)\n",
    "\n",
    "cSSLModel.plot_similarity_matrix(test_samples, n_samples=n_samples);"
   ]
  }
 ],
 "metadata": {
  "kernelspec": {
   "display_name": "ma2Python12",
   "language": "python",
   "name": "ma2python12"
  },
  "language_info": {
   "codemirror_mode": {
    "name": "ipython",
    "version": 3
   },
   "file_extension": ".py",
   "mimetype": "text/x-python",
   "name": "python",
   "nbconvert_exporter": "python",
   "pygments_lexer": "ipython3",
   "version": "3.12.9"
  }
 },
 "nbformat": 4,
 "nbformat_minor": 4
}
